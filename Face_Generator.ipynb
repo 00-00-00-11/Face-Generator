{
  "nbformat": 4,
  "nbformat_minor": 0,
  "metadata": {
    "colab": {
      "name": "Face Generator.ipynb",
      "provenance": [],
      "authorship_tag": "ABX9TyM+l2qU401U9WB+QYlY1EJ/",
      "include_colab_link": true
    },
    "kernelspec": {
      "name": "python3",
      "display_name": "Python 3"
    },
    "language_info": {
      "name": "python"
    }
  },
  "cells": [
    {
      "cell_type": "markdown",
      "metadata": {
        "id": "view-in-github",
        "colab_type": "text"
      },
      "source": [
        "<a href=\"https://colab.research.google.com/github/annasajkh/Face-Generator/blob/main/Face_Generator.ipynb\" target=\"_parent\"><img src=\"https://colab.research.google.com/assets/colab-badge.svg\" alt=\"Open In Colab\"/></a>"
      ]
    },
    {
      "cell_type": "code",
      "metadata": {
        "colab": {
          "base_uri": "https://localhost:8080/"
        },
        "id": "2-xTp8BXGKMh",
        "outputId": "74d02ac0-d24e-4b40-95a9-9b6b63dce527"
      },
      "source": [
        "!gdown --id 1h24QCVcxZUzMZGsaNXynRgktK4UHsETP"
      ],
      "execution_count": 7,
      "outputs": [
        {
          "output_type": "stream",
          "name": "stdout",
          "text": [
            "Downloading...\n",
            "From: https://drive.google.com/uc?id=1h24QCVcxZUzMZGsaNXynRgktK4UHsETP\n",
            "To: /content/face_model.pkl\n",
            "52.8MB [00:00, 79.2MB/s]\n"
          ]
        }
      ]
    },
    {
      "cell_type": "code",
      "metadata": {
        "id": "Qak2SNhLFj53"
      },
      "source": [
        "from torch.nn.modules.linear import Linear\n",
        "import torch\n",
        "import torch.nn as nn\n",
        "import numpy as np\n",
        "import matplotlib.pyplot as plt"
      ],
      "execution_count": 16,
      "outputs": []
    },
    {
      "cell_type": "code",
      "metadata": {
        "id": "yRuXTRUHFra4"
      },
      "source": [
        "class AutoEncoder(nn.Module):\n",
        "  def __init__(self):\n",
        "    super(AutoEncoder, self).__init__()\n",
        "\n",
        "    self.encoder = nn.Sequential(\n",
        "      nn.Conv2d(3, 120, kernel_size=3, stride=2, padding=1),\n",
        "      nn.LeakyReLU(True),\n",
        "\n",
        "      nn.Conv2d(120, 160, kernel_size=3, stride=2, padding=1),\n",
        "      nn.BatchNorm2d(160),\n",
        "      nn.LeakyReLU(True),\n",
        "\n",
        "      nn.Conv2d(160, 200, kernel_size=3, stride=2, padding=0),\n",
        "      nn.LeakyReLU(True),\n",
        "\n",
        "      nn.Flatten()\n",
        "    )\n",
        "\n",
        "    self.fc1 = nn.Sequential(\n",
        "      nn.Linear(9800, 600),\n",
        "      nn.LeakyReLU(True)\n",
        "    )\n",
        "\n",
        "    self.fc2 = nn.Sequential(\n",
        "      nn.Linear(300, 600),\n",
        "      nn.LeakyReLU(True),\n",
        "\n",
        "      nn.Linear(600, 9800),\n",
        "      nn.LeakyReLU(True)\n",
        "    )\n",
        "\n",
        "\n",
        "    self.decoder = nn.Sequential(      \n",
        "      nn.ConvTranspose2d(200, 160, kernel_size=3, stride=2, output_padding=0),\n",
        "      nn.BatchNorm2d(160),\n",
        "      nn.ReLU(True),\n",
        "\n",
        "      nn.ConvTranspose2d(160, 120, kernel_size=5, stride=2, padding=1, output_padding=1),\n",
        "      nn.BatchNorm2d(120),\n",
        "      nn.ReLU(True),\n",
        "\n",
        "      nn.ConvTranspose2d(120, 3, kernel_size=3, stride=2, padding=1, output_padding=1),\n",
        "      nn.Sigmoid()\n",
        "    )\n",
        "  \n",
        "  def reparameterize(self, mu, log_var):\n",
        "    \"\"\"\n",
        "    :param mu: mean from the encoder's latent space\n",
        "    :param log_var: log variance from the encoder's latent space\n",
        "    \"\"\"\n",
        "    std = torch.exp(0.5*log_var) # standard deviation\n",
        "    eps = torch.randn_like(std) # `randn_like` as we need the same size\n",
        "    sample = mu + (eps * std) # sampling as if coming from the input space\n",
        "    return sample\n",
        "\n",
        "  def forward(self, x):\n",
        "    #code from https://debuggercafe.com/getting-started-with-variational-autoencoder-using-pytorch/\n",
        "\n",
        "    x = self.encode(x).view(-1, 2, 300)\n",
        "\n",
        "    # get `mu` and `log_var`\n",
        "    mu = x[:, 0, :] # the first feature values as mean\n",
        "    log_var = x[:, 1, :] # the other feature values as variance\n",
        "    # get the latent vector through reparameterization\n",
        "    z = self.reparameterize(mu, log_var)\n",
        "\n",
        "    x = self.decode(z)\n",
        "    return x, mu, log_var\n",
        "  \n",
        "  def encode(self, x):\n",
        "    x = self.encoder(x)\n",
        "    x = self.fc1(x)\n",
        "    return x\n",
        "\n",
        "  def decode(self, x):\n",
        "    x = self.fc2(x)\n",
        "    x = x.view(x.shape[0], 200, 7, 7)\n",
        "    x = self.decoder(x)\n",
        "    return x\n",
        "\n",
        "#code from https://debuggercafe.com/getting-started-with-variational-autoencoder-using-pytorch/\n",
        "def final_loss(bce_loss, mu, logvar):\n",
        "    \"\"\"\n",
        "    This function will add the reconstruction loss (BCELoss) and the \n",
        "    KL-Divergence.\n",
        "    KL-Divergence = 0.5 * sum(1 + log(sigma^2) - mu^2 - sigma^2)\n",
        "    :param bce_loss: recontruction loss\n",
        "    :param mu: the mean from the latent vector\n",
        "    :param logvar: log variance from the latent vector\n",
        "    \"\"\"\n",
        "    BCE = bce_loss \n",
        "    KLD = -0.5 * torch.sum(1 + logvar - mu.pow(2) - logvar.exp())\n",
        "    return BCE + KLD"
      ],
      "execution_count": 11,
      "outputs": []
    },
    {
      "cell_type": "code",
      "metadata": {
        "colab": {
          "base_uri": "https://localhost:8080/"
        },
        "id": "7nmJJI11Fu83",
        "outputId": "bfd54cb7-88d0-4c11-f04a-8a924d1900df"
      },
      "source": [
        "model = AutoEncoder()\n",
        "model.load_state_dict(torch.load(\"face_model.pkl\", map_location=torch.device(\"cpu\")))"
      ],
      "execution_count": 12,
      "outputs": [
        {
          "output_type": "execute_result",
          "data": {
            "text/plain": [
              "<All keys matched successfully>"
            ]
          },
          "metadata": {},
          "execution_count": 12
        }
      ]
    },
    {
      "cell_type": "code",
      "metadata": {
        "colab": {
          "base_uri": "https://localhost:8080/",
          "height": 285
        },
        "id": "2ajuZaHLFzk6",
        "outputId": "861d4963-bd43-4307-d1a3-3178e937f197"
      },
      "source": [
        "generated_face = model.decode(torch.randn(1, 300))\n",
        "plt.imshow(generated_face.cpu().detach().reshape(64, 64, 3))"
      ],
      "execution_count": 17,
      "outputs": [
        {
          "output_type": "execute_result",
          "data": {
            "text/plain": [
              "<matplotlib.image.AxesImage at 0x7f5744016310>"
            ]
          },
          "metadata": {},
          "execution_count": 17
        },
        {
          "output_type": "display_data",
          "data": {
            "image/png": "[encoded data removed]",
            "text/plain": [
              "<Figure size 432x288 with 1 Axes>"
            ]
          },
          "metadata": {
            "needs_background": "light"
          }
        }
      ]
    }
  ]
}