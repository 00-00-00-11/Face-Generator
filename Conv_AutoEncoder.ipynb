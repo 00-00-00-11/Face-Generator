{
  "nbformat": 4,
  "nbformat_minor": 0,
  "metadata": {
    "colab": {
      "name": "Conv AutoEncoder.ipynb",
      "provenance": [],
      "collapsed_sections": [],
      "include_colab_link": true
    },
    "kernelspec": {
      "display_name": "Python 3",
      "name": "python3"
    },
    "language_info": {
      "name": "python"
    }
  },
  "cells": [
    {
      "cell_type": "markdown",
      "metadata": {
        "id": "view-in-github",
        "colab_type": "text"
      },
      "source": [
        "<a href=\"https://colab.research.google.com/github/annasajkh/Face-Generator/blob/main/Conv_AutoEncoder.ipynb\" target=\"_parent\"><img src=\"https://colab.research.google.com/assets/colab-badge.svg\" alt=\"Open In Colab\"/></a>"
      ]
    },
    {
      "cell_type": "code",
      "metadata": {
        "colab": {
          "base_uri": "https://localhost:8080/"
        },
        "id": "1FVS-CP4SoA-",
        "outputId": "c5eedb16-bd50-47de-9fb2-342cfc4902f8"
      },
      "source": [
        "from google.colab import drive\n",
        "drive.mount('/content/drive')"
      ],
      "execution_count": 4,
      "outputs": [
        {
          "output_type": "stream",
          "name": "stdout",
          "text": [
            "Mounted at /content/drive\n"
          ]
        }
      ]
    },
    {
      "cell_type": "code",
      "metadata": {
        "id": "VxMGLpURFNS1"
      },
      "source": [
        "import os\n",
        "os.environ[\"KAGGLE_CONFIG_DIR\"] = \"/content/drive/MyDrive/kaggle\"\n",
        "\n",
        "!kaggle datasets download -d greatgamedota/ffhq-face-data-set"
      ],
      "execution_count": null,
      "outputs": []
    },
    {
      "cell_type": "code",
      "metadata": {
        "id": "_MiirqR5u1nq"
      },
      "source": [
        "!unzip ffhq-face-data-set.zip"
      ],
      "execution_count": null,
      "outputs": []
    },
    {
      "cell_type": "code",
      "metadata": {
        "id": "mj7kVl2Ev9ry"
      },
      "source": [
        "import glob\n",
        "from PIL import Image\n",
        "import numpy as np\n",
        "\n",
        "imgs = []\n",
        "\n",
        "count = 0\n",
        "\n",
        "for file in glob.glob(\"thumbnails128x128/*\"):\n",
        "  imgs.append(np.array(Image.open(file).resize((64,64))) / 255)\n",
        "  count += 1\n",
        "\n",
        "  if count == 20_000:\n",
        "    break\n",
        "\n",
        "np.save(\"face_dataset.npy\", np.array(imgs))"
      ],
      "execution_count": 5,
      "outputs": []
    },
    {
      "cell_type": "code",
      "metadata": {
        "id": "24CX3YTrE4Qp"
      },
      "source": [
        "%cp drive/MyDrive/face_dataset.npy /content/"
      ],
      "execution_count": 6,
      "outputs": []
    },
    {
      "cell_type": "code",
      "metadata": {
        "id": "tbhfZGchhVoX"
      },
      "source": [
        "%cp drive/MyDrive/face_model.pkl /content/"
      ],
      "execution_count": 7,
      "outputs": []
    },
    {
      "cell_type": "code",
      "metadata": {
        "id": "ZFu2EIBBHhY8",
        "colab": {
          "base_uri": "https://localhost:8080/"
        },
        "outputId": "ac0a169e-3674-4afd-88bf-64f7485ca04e"
      },
      "source": [
        "from tqdm import tqdm\n",
        "from torch.nn.modules.linear import Linear\n",
        "import torch\n",
        "import torch.nn as nn\n",
        "from torch.optim import Adam\n",
        "from tqdm import tqdm\n",
        "import numpy as np\n",
        "\n",
        "dataset = torch.from_numpy(np.load(\"face_dataset.npy\")).float()\n",
        "print(len(dataset))\n",
        "if torch.cuda.is_available():\n",
        "  dataset = dataset.cuda()\n",
        "\n",
        "dataset = dataset.view(len(dataset), 3, 64, 64)\n",
        "\n",
        "batch_size = 32"
      ],
      "execution_count": 8,
      "outputs": [
        {
          "output_type": "stream",
          "name": "stdout",
          "text": [
            "20000\n"
          ]
        }
      ]
    },
    {
      "cell_type": "code",
      "metadata": {
        "id": "i1jutDDoGCdT"
      },
      "source": [
        "class AutoEncoder(nn.Module):\n",
        "  def __init__(self):\n",
        "    super(AutoEncoder, self).__init__()\n",
        "\n",
        "    self.encoder = nn.Sequential(\n",
        "      nn.Conv2d(3, 120, kernel_size=3, stride=2, padding=1),\n",
        "      nn.LeakyReLU(True),\n",
        "\n",
        "      nn.Conv2d(120, 160, kernel_size=3, stride=2, padding=1),\n",
        "      nn.BatchNorm2d(160),\n",
        "      nn.LeakyReLU(True),\n",
        "\n",
        "      nn.Conv2d(160, 200, kernel_size=3, stride=2, padding=0),\n",
        "      nn.LeakyReLU(True),\n",
        "\n",
        "      nn.Flatten()\n",
        "    )\n",
        "\n",
        "    self.fc1 = nn.Sequential(\n",
        "      nn.Linear(9800, 600),\n",
        "      nn.LeakyReLU(True)\n",
        "    )\n",
        "\n",
        "    self.fc2 = nn.Sequential(\n",
        "      nn.Linear(300, 600),\n",
        "      nn.LeakyReLU(True),\n",
        "\n",
        "      nn.Linear(600, 9800),\n",
        "      nn.LeakyReLU(True)\n",
        "    )\n",
        "\n",
        "\n",
        "    self.decoder = nn.Sequential(      \n",
        "      nn.ConvTranspose2d(200, 160, kernel_size=3, stride=2, output_padding=0),\n",
        "      nn.BatchNorm2d(160),\n",
        "      nn.ReLU(True),\n",
        "\n",
        "      nn.ConvTranspose2d(160, 120, kernel_size=5, stride=2, padding=1, output_padding=1),\n",
        "      nn.BatchNorm2d(120),\n",
        "      nn.ReLU(True),\n",
        "\n",
        "      nn.ConvTranspose2d(120, 3, kernel_size=3, stride=2, padding=1, output_padding=1),\n",
        "      nn.Sigmoid()\n",
        "    )\n",
        "  \n",
        "  def reparameterize(self, mu, log_var):\n",
        "    \"\"\"\n",
        "    :param mu: mean from the encoder's latent space\n",
        "    :param log_var: log variance from the encoder's latent space\n",
        "    \"\"\"\n",
        "    std = torch.exp(0.5*log_var) # standard deviation\n",
        "    eps = torch.randn_like(std) # `randn_like` as we need the same size\n",
        "    sample = mu + (eps * std) # sampling as if coming from the input space\n",
        "    return sample\n",
        "\n",
        "  def forward(self, x):\n",
        "    #code from https://debuggercafe.com/getting-started-with-variational-autoencoder-using-pytorch/\n",
        "\n",
        "    x = self.encode(x).view(-1, 2, 300)\n",
        "\n",
        "    # get `mu` and `log_var`\n",
        "    mu = x[:, 0, :] # the first feature values as mean\n",
        "    log_var = x[:, 1, :] # the other feature values as variance\n",
        "    # get the latent vector through reparameterization\n",
        "    z = self.reparameterize(mu, log_var)\n",
        "\n",
        "    x = self.decode(z)\n",
        "    return x, mu, log_var\n",
        "  \n",
        "  def encode(self, x):\n",
        "    x = self.encoder(x)\n",
        "    x = self.fc1(x)\n",
        "    return x\n",
        "\n",
        "  def decode(self, x):\n",
        "    x = self.fc2(x)\n",
        "    x = x.view(x.shape[0], 200, 7, 7)\n",
        "    x = self.decoder(x)\n",
        "    return x\n",
        "\n",
        "#code from https://debuggercafe.com/getting-started-with-variational-autoencoder-using-pytorch/\n",
        "def final_loss(bce_loss, mu, logvar):\n",
        "    \"\"\"\n",
        "    This function will add the reconstruction loss (BCELoss) and the \n",
        "    KL-Divergence.\n",
        "    KL-Divergence = 0.5 * sum(1 + log(sigma^2) - mu^2 - sigma^2)\n",
        "    :param bce_loss: recontruction loss\n",
        "    :param mu: the mean from the latent vector\n",
        "    :param logvar: log variance from the latent vector\n",
        "    \"\"\"\n",
        "    BCE = bce_loss \n",
        "    KLD = -0.5 * torch.sum(1 + logvar - mu.pow(2) - logvar.exp())\n",
        "    return BCE + KLD"
      ],
      "execution_count": 9,
      "outputs": []
    },
    {
      "cell_type": "code",
      "metadata": {
        "id": "xsN6HhXrhogz"
      },
      "source": [
        "model = AutoEncoder()\n",
        "model.load_state_dict(torch.load(\"face_model.pkl\", map_location=torch.device(\"cpu\")))\n",
        "optimizer = Adam(model.parameters(), lr=3e-4)\n",
        "loss_function = nn.BCELoss(reduction=\"sum\")\n",
        "\n",
        "if torch.cuda.is_available():\n",
        "    model = model.cuda()\n",
        "    loss_function = loss_function.cuda()"
      ],
      "execution_count": 10,
      "outputs": []
    },
    {
      "cell_type": "code",
      "metadata": {
        "id": "aCBK8EQXynDF"
      },
      "source": [
        "model = AutoEncoder()\n",
        "optimizer = Adam(model.parameters(), lr=3e-4)\n",
        "loss_function = nn.BCELoss(reduction=\"sum\")\n",
        "\n",
        "if torch.cuda.is_available():\n",
        "    model = model.cuda()\n",
        "    loss_function = loss_function.cuda()"
      ],
      "execution_count": null,
      "outputs": []
    },
    {
      "cell_type": "code",
      "metadata": {
        "colab": {
          "base_uri": "https://localhost:8080/"
        },
        "id": "XrZTpEI1Fymu",
        "outputId": "0832cf29-040e-41db-d0f9-db8450ae3eeb"
      },
      "source": [
        "model.train()\n",
        "\n",
        "epoch = 10_000\n",
        "\n",
        "for e in tqdm(range(epoch)):\n",
        "  running_loss = 0.0\n",
        "  for i in range(1, int(len(dataset) / batch_size)):\n",
        "    data = dataset[(i-1)*batch_size:i*batch_size]\n",
        "    optimizer.zero_grad()\n",
        "    reconstruction, mu, logvar = model(data)\n",
        "    bce_loss = loss_function(reconstruction, data)\n",
        "    loss = final_loss(bce_loss, mu, logvar)\n",
        "    running_loss += loss.item()\n",
        "\n",
        "    loss.backward()\n",
        "    optimizer.step()\n",
        "  \n",
        "  train_loss = running_loss/len(dataset)\n",
        "\n",
        "  print(f\"Epoch: {e}\\nLoss: {train_loss}\")\n",
        "\n",
        "  torch.save(model.state_dict(), \"drive/MyDrive/face_model.pkl\")"
      ],
      "execution_count": null,
      "outputs": [
        {
          "output_type": "stream",
          "name": "stderr",
          "text": [
            "\r  0%|          | 0/10000 [00:00<?, ?it/s]"
          ]
        },
        {
          "output_type": "stream",
          "name": "stdout",
          "text": [
            "Epoch: 0\n",
            "Loss: 7350.1315140625\n"
          ]
        },
        {
          "output_type": "stream",
          "name": "stderr",
          "text": [
            "\r  0%|          | 1/10000 [00:37<103:48:07, 37.37s/it]"
          ]
        },
        {
          "output_type": "stream",
          "name": "stdout",
          "text": [
            "Epoch: 1\n",
            "Loss: 7052.1926859375\n"
          ]
        },
        {
          "output_type": "stream",
          "name": "stderr",
          "text": [
            "\r  0%|          | 2/10000 [01:14<103:20:41, 37.21s/it]"
          ]
        },
        {
          "output_type": "stream",
          "name": "stdout",
          "text": [
            "Epoch: 2\n",
            "Loss: 6989.5283015625\n"
          ]
        },
        {
          "output_type": "stream",
          "name": "stderr",
          "text": [
            "\r  0%|          | 3/10000 [01:51<103:05:34, 37.12s/it]"
          ]
        },
        {
          "output_type": "stream",
          "name": "stdout",
          "text": [
            "Epoch: 3\n",
            "Loss: 6957.41110703125\n"
          ]
        },
        {
          "output_type": "stream",
          "name": "stderr",
          "text": [
            "\r  0%|          | 4/10000 [02:28<102:55:24, 37.07s/it]"
          ]
        },
        {
          "output_type": "stream",
          "name": "stdout",
          "text": [
            "Epoch: 4\n",
            "Loss: 6937.2370859375\n"
          ]
        },
        {
          "output_type": "stream",
          "name": "stderr",
          "text": [
            "\r  0%|          | 5/10000 [03:05<102:48:35, 37.03s/it]"
          ]
        },
        {
          "output_type": "stream",
          "name": "stdout",
          "text": [
            "Epoch: 5\n",
            "Loss: 6923.551128125\n"
          ]
        },
        {
          "output_type": "stream",
          "name": "stderr",
          "text": [
            "\r  0%|          | 6/10000 [03:42<102:45:55, 37.02s/it]"
          ]
        },
        {
          "output_type": "stream",
          "name": "stdout",
          "text": [
            "Epoch: 6\n",
            "Loss: 6914.7116421875\n"
          ]
        },
        {
          "output_type": "stream",
          "name": "stderr",
          "text": [
            "\r  0%|          | 7/10000 [04:19<102:43:21, 37.01s/it]"
          ]
        },
        {
          "output_type": "stream",
          "name": "stdout",
          "text": [
            "Epoch: 7\n",
            "Loss: 6907.695646875\n"
          ]
        },
        {
          "output_type": "stream",
          "name": "stderr",
          "text": [
            "\r  0%|          | 8/10000 [04:56<102:40:28, 36.99s/it]"
          ]
        }
      ]
    },
    {
      "cell_type": "code",
      "metadata": {
        "id": "x8ZpwOKA3VQf",
        "colab": {
          "base_uri": "https://localhost:8080/"
        },
        "outputId": "66bd28ff-461e-4854-f532-408355162921"
      },
      "source": [
        "print(len(dataset))"
      ],
      "execution_count": 11,
      "outputs": [
        {
          "output_type": "stream",
          "name": "stdout",
          "text": [
            "20000\n"
          ]
        }
      ]
    },
    {
      "cell_type": "code",
      "metadata": {
        "id": "ab8r1Iq8wLTw",
        "colab": {
          "base_uri": "https://localhost:8080/",
          "height": 285
        },
        "outputId": "9643a5e1-610b-43f9-acb0-d55a59fb1a4a"
      },
      "source": [
        "import matplotlib.pyplot as plt\n",
        "\n",
        "model.eval()\n",
        "plt.imshow(dataset[0].cpu().reshape(64, 64, 3))"
      ],
      "execution_count": 14,
      "outputs": [
        {
          "output_type": "execute_result",
          "data": {
            "text/plain": [
              "<matplotlib.image.AxesImage at 0x7fe053cbc990>"
            ]
          },
          "metadata": {},
          "execution_count": 14
        },
        {
          "output_type": "display_data",
          "data": {
            "image/png": "[encoded data removed]",
            "text/plain": [
              "<Figure size 432x288 with 1 Axes>"
            ]
          },
          "metadata": {
            "needs_background": "light"
          }
        }
      ]
    },
    {
      "cell_type": "code",
      "metadata": {
        "colab": {
          "base_uri": "https://localhost:8080/",
          "height": 285
        },
        "id": "rDCYMQFnwqs9",
        "outputId": "30b32178-45e9-4ba5-d469-f523cfcf3f2b"
      },
      "source": [
        "reconstruction, mu, logvar = model(dataset[0].view(1, 3, 64, 64))\n",
        "plt.imshow(reconstruction.cpu().detach().reshape(64, 64, 3))"
      ],
      "execution_count": 15,
      "outputs": [
        {
          "output_type": "execute_result",
          "data": {
            "text/plain": [
              "<matplotlib.image.AxesImage at 0x7fe053c370d0>"
            ]
          },
          "metadata": {},
          "execution_count": 15
        },
        {
          "output_type": "display_data",
          "data": {
            "image/png": "[encoded data removed]",
            "text/plain": [
              "<Figure size 432x288 with 1 Axes>"
            ]
          },
          "metadata": {
            "needs_background": "light"
          }
        }
      ]
    }
  ]
}